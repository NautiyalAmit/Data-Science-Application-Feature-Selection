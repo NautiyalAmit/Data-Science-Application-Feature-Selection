{
 "cells": [
  {
   "cell_type": "code",
   "execution_count": 8,
   "metadata": {
    "pycharm": {
     "is_executing": false
    }
   },
   "outputs": [],
   "source": [
    "import pandas as pd\n",
    "import numpy as np\n",
    "import sklearn as sk\n",
    "import pandas_profiling\n",
    "import sys,os\n",
    "import seaborn as sns\n",
    "import matplotlib.pyplot as plt\n",
    "from sklearn.feature_selection import mutual_info_classif\n",
    "from sklearn.decomposition import PCA\n",
    "from sklearn.preprocessing import StandardScaler\n",
    "import pandas.api.types as ptypes\n",
    "from numpy.random import choice\n",
    "from sklearn.pipeline import Pipeline\n",
    "from sklearn.impute import SimpleImputer\n",
    "from sklearn.preprocessing import StandardScaler, OneHotEncoder\n",
    "from sklearn.linear_model import LogisticRegression\n",
    "from sklearn.compose import ColumnTransformer\n",
    "from sklearn.ensemble import RandomForestClassifier\n",
    "from sklearn.model_selection import train_test_split, GridSearchCV\n",
    "import random\n",
    "from random import randrange\n",
    "from sklearn.feature_selection import RFE\n",
    "from sklearn.linear_model import LogisticRegression\n",
    "import  matplotlib.pyplot as plt\n",
    "%matplotlib inline\n",
    "\n",
    "\n",
    "import warnings\n",
    "warnings.filterwarnings('ignore')\n",
    "\n",
    "\n",
    "\n",
    "import statsmodels.api as sm"
   ]
  },
  {
   "cell_type": "code",
   "execution_count": null,
   "metadata": {},
   "outputs": [],
   "source": []
  },
  {
   "cell_type": "markdown",
   "metadata": {},
   "source": [
    "## Read the data"
   ]
  },
  {
   "cell_type": "code",
   "execution_count": 9,
   "metadata": {
    "pycharm": {
     "is_executing": false
    }
   },
   "outputs": [
    {
     "name": "stdout",
     "output_type": "stream",
     "text": [
      "Index(['id', 'diagnosis', 'radius_mean', 'texture_mean', 'perimeter_mean',\n",
      "       'area_mean', 'smoothness_mean', 'compactness_mean', 'concavity_mean',\n",
      "       'concave points_mean', 'symmetry_mean', 'fractal_dimension_mean',\n",
      "       'radius_se', 'texture_se', 'perimeter_se', 'area_se', 'smoothness_se',\n",
      "       'compactness_se', 'concavity_se', 'concave points_se', 'symmetry_se',\n",
      "       'fractal_dimension_se', 'radius_worst', 'texture_worst',\n",
      "       'perimeter_worst', 'area_worst', 'smoothness_worst',\n",
      "       'compactness_worst', 'concavity_worst', 'concave points_worst',\n",
      "       'symmetry_worst', 'fractal_dimension_worst'],\n",
      "      dtype='object')\n"
     ]
    },
    {
     "data": {
      "text/plain": [
       "(569, 32)"
      ]
     },
     "execution_count": 9,
     "metadata": {},
     "output_type": "execute_result"
    }
   ],
   "source": [
    "df=pd.read_csv('./amit/data.csv')\n",
    "print(df.columns)\n",
    "df.head()\n",
    "df.shape"
   ]
  },
  {
   "cell_type": "code",
   "execution_count": 10,
   "metadata": {
    "pycharm": {
     "is_executing": false
    }
   },
   "outputs": [],
   "source": [
    "def load_data():\n",
    "    df=pd.read_csv('./amit/data.csv')\n",
    "    df['diagnosis'] =df['diagnosis'].apply(lambda x: 1 if x ==\"M\" else 0)\n",
    "    y = df['diagnosis']\n",
    "    X = df.drop(['diagnosis','id'],axis=1)\n",
    "    return X,y\n",
    "X,y =load_data()\n",
    "feature_cols = X.columns.to_list()\n"
   ]
  },
  {
   "cell_type": "code",
   "execution_count": 11,
   "metadata": {
    "pycharm": {
     "is_executing": false
    }
   },
   "outputs": [],
   "source": [
    "feature_stats = X.describe().T[['mean','std','max','min']]\n",
    "df['diagnosis'] =df['diagnosis'].apply(lambda x: 1 if x ==\"M\" else 0)\n",
    "corr_matrix = df.corr()\n"
   ]
  },
  {
   "cell_type": "code",
   "execution_count": 12,
   "metadata": {
    "pycharm": {
     "is_executing": false
    }
   },
   "outputs": [
    {
     "name": "stdout",
     "output_type": "stream",
     "text": [
      "Num Features: 3\n",
      "Selected Features: [False False False False False False False False False False  True False\n",
      " False False False False False False False False False False False False\n",
      " False False  True  True False False]\n",
      "Feature Ranking: ['compactness_mean', 'texture_se', 'perimeter_worst', 'concavity_worst', 'texture_worst', 'symmetry_mean', 'area_mean', 'concave points_mean', 'compactness_se', 'compactness_worst', 'texture_mean', 'fractal_dimension_mean', 'concavity_mean', 'smoothness_se', 'symmetry_worst', 'perimeter_se', 'area_se', 'area_worst', 'smoothness_worst', 'concave points_worst', 'symmetry_se', 'radius_se', 'concave points_se', 'radius_worst', 'fractal_dimension_se', 'perimeter_mean', 'texture_mean', 'texture_mean', 'smoothness_mean', 'concavity_se']\n"
     ]
    }
   ],
   "source": [
    "\n",
    "\n",
    "model = LogisticRegression(solver='lbfgs')\n",
    "rfe = RFE(model, 3)\n",
    "fit = rfe.fit(X, y)\n",
    "print(\"Num Features: %d\" % fit.n_features_)\n",
    "print(\"Selected Features: %s\" % fit.support_)\n",
    "ranking_names =map(lambda x: feature_cols[x],fit.ranking_)\n",
    "print(\"Feature Ranking: %s\" % list(ranking_names))"
   ]
  },
  {
   "cell_type": "code",
   "execution_count": 13,
   "metadata": {
    "pycharm": {
     "is_executing": false
    }
   },
   "outputs": [],
   "source": [
    "mutual_info = np.array(mutual_info_classif(X, y, discrete_features='auto', n_neighbors=3, copy=True, random_state=42))\n",
    "mutual_info= pd.DataFrame(mutual_info,columns=[\"mutual_information\"],index=feature_cols)\n",
    "#mutual_info.sort_values(by='mutual_information',ascending=False)\\\n",
    "#        .plot(kind='bar',figsize=(16,9))"
   ]
  },
  {
   "cell_type": "code",
   "execution_count": null,
   "metadata": {
    "pycharm": {
     "is_executing": false
    }
   },
   "outputs": [],
   "source": [
    "\n"
   ]
  },
  {
   "cell_type": "code",
   "execution_count": 17,
   "metadata": {
    "pycharm": {
     "is_executing": false
    }
   },
   "outputs": [
    {
     "name": "stdout",
     "output_type": "stream",
     "text": [
      "Collecting nlpaug\n",
      "  Using cached nlpaug-0.0.14-py3-none-any.whl (101 kB)\n",
      "Installing collected packages: nlpaug\n",
      "Successfully installed nlpaug-0.0.14\n"
     ]
    }
   ],
   "source": [
    "!pip install nlpaug\n"
   ]
  },
  {
   "cell_type": "code",
   "execution_count": 18,
   "metadata": {},
   "outputs": [],
   "source": [
    "from DataCorruption.DataCorruptor import DataCorruptor\n"
   ]
  },
  {
   "cell_type": "code",
   "execution_count": 19,
   "metadata": {
    "pycharm": {
     "is_executing": false
    }
   },
   "outputs": [
    {
     "data": {
      "text/html": [
       "<div>\n",
       "<style scoped>\n",
       "    .dataframe tbody tr th:only-of-type {\n",
       "        vertical-align: middle;\n",
       "    }\n",
       "\n",
       "    .dataframe tbody tr th {\n",
       "        vertical-align: top;\n",
       "    }\n",
       "\n",
       "    .dataframe thead th {\n",
       "        text-align: right;\n",
       "    }\n",
       "</style>\n",
       "<table border=\"1\" class=\"dataframe\">\n",
       "  <thead>\n",
       "    <tr style=\"text-align: right;\">\n",
       "      <th></th>\n",
       "      <th>radius_mean</th>\n",
       "      <th>texture_mean</th>\n",
       "      <th>perimeter_mean</th>\n",
       "      <th>area_mean</th>\n",
       "      <th>smoothness_mean</th>\n",
       "      <th>compactness_mean</th>\n",
       "      <th>concavity_mean</th>\n",
       "      <th>concave points_mean</th>\n",
       "      <th>symmetry_mean</th>\n",
       "      <th>fractal_dimension_mean</th>\n",
       "      <th>...</th>\n",
       "      <th>radius_worst</th>\n",
       "      <th>texture_worst</th>\n",
       "      <th>perimeter_worst</th>\n",
       "      <th>area_worst</th>\n",
       "      <th>smoothness_worst</th>\n",
       "      <th>compactness_worst</th>\n",
       "      <th>concavity_worst</th>\n",
       "      <th>concave points_worst</th>\n",
       "      <th>symmetry_worst</th>\n",
       "      <th>fractal_dimension_worst</th>\n",
       "    </tr>\n",
       "  </thead>\n",
       "  <tbody>\n",
       "    <tr>\n",
       "      <th>0</th>\n",
       "      <td>NaN</td>\n",
       "      <td>10.38</td>\n",
       "      <td>122.80</td>\n",
       "      <td>1001.0</td>\n",
       "      <td>0.11840</td>\n",
       "      <td>0.27760</td>\n",
       "      <td>0.30010</td>\n",
       "      <td>0.14710</td>\n",
       "      <td>0.2419</td>\n",
       "      <td>0.07871</td>\n",
       "      <td>...</td>\n",
       "      <td>25.380</td>\n",
       "      <td>17.33</td>\n",
       "      <td>184.60</td>\n",
       "      <td>2019.0</td>\n",
       "      <td>0.16220</td>\n",
       "      <td>0.66560</td>\n",
       "      <td>0.7119</td>\n",
       "      <td>0.2654</td>\n",
       "      <td>0.4601</td>\n",
       "      <td>0.11890</td>\n",
       "    </tr>\n",
       "    <tr>\n",
       "      <th>1</th>\n",
       "      <td>NaN</td>\n",
       "      <td>17.77</td>\n",
       "      <td>132.90</td>\n",
       "      <td>1326.0</td>\n",
       "      <td>0.08474</td>\n",
       "      <td>0.07864</td>\n",
       "      <td>0.08690</td>\n",
       "      <td>0.07017</td>\n",
       "      <td>0.1812</td>\n",
       "      <td>0.05667</td>\n",
       "      <td>...</td>\n",
       "      <td>24.990</td>\n",
       "      <td>23.41</td>\n",
       "      <td>158.80</td>\n",
       "      <td>1956.0</td>\n",
       "      <td>0.12380</td>\n",
       "      <td>0.18660</td>\n",
       "      <td>0.2416</td>\n",
       "      <td>0.1860</td>\n",
       "      <td>0.2750</td>\n",
       "      <td>0.08902</td>\n",
       "    </tr>\n",
       "    <tr>\n",
       "      <th>2</th>\n",
       "      <td>NaN</td>\n",
       "      <td>21.25</td>\n",
       "      <td>130.00</td>\n",
       "      <td>1203.0</td>\n",
       "      <td>0.10960</td>\n",
       "      <td>0.15990</td>\n",
       "      <td>0.19740</td>\n",
       "      <td>0.12790</td>\n",
       "      <td>0.2069</td>\n",
       "      <td>0.05999</td>\n",
       "      <td>...</td>\n",
       "      <td>23.570</td>\n",
       "      <td>25.53</td>\n",
       "      <td>152.50</td>\n",
       "      <td>1709.0</td>\n",
       "      <td>0.14440</td>\n",
       "      <td>0.42450</td>\n",
       "      <td>0.4504</td>\n",
       "      <td>0.2430</td>\n",
       "      <td>0.3613</td>\n",
       "      <td>0.08758</td>\n",
       "    </tr>\n",
       "    <tr>\n",
       "      <th>3</th>\n",
       "      <td>8.450199</td>\n",
       "      <td>20.38</td>\n",
       "      <td>77.58</td>\n",
       "      <td>386.1</td>\n",
       "      <td>0.14250</td>\n",
       "      <td>0.28390</td>\n",
       "      <td>0.24140</td>\n",
       "      <td>0.10520</td>\n",
       "      <td>0.2597</td>\n",
       "      <td>0.09744</td>\n",
       "      <td>...</td>\n",
       "      <td>14.910</td>\n",
       "      <td>26.50</td>\n",
       "      <td>98.87</td>\n",
       "      <td>567.7</td>\n",
       "      <td>0.20980</td>\n",
       "      <td>0.86630</td>\n",
       "      <td>0.6869</td>\n",
       "      <td>0.2575</td>\n",
       "      <td>0.6638</td>\n",
       "      <td>0.17300</td>\n",
       "    </tr>\n",
       "    <tr>\n",
       "      <th>4</th>\n",
       "      <td>5.629733</td>\n",
       "      <td>14.34</td>\n",
       "      <td>135.10</td>\n",
       "      <td>1297.0</td>\n",
       "      <td>0.10030</td>\n",
       "      <td>0.13280</td>\n",
       "      <td>0.19800</td>\n",
       "      <td>0.10430</td>\n",
       "      <td>0.1809</td>\n",
       "      <td>0.05883</td>\n",
       "      <td>...</td>\n",
       "      <td>22.540</td>\n",
       "      <td>16.67</td>\n",
       "      <td>152.20</td>\n",
       "      <td>1575.0</td>\n",
       "      <td>0.13740</td>\n",
       "      <td>0.20500</td>\n",
       "      <td>0.4000</td>\n",
       "      <td>0.1625</td>\n",
       "      <td>0.2364</td>\n",
       "      <td>0.07678</td>\n",
       "    </tr>\n",
       "    <tr>\n",
       "      <th>...</th>\n",
       "      <td>...</td>\n",
       "      <td>...</td>\n",
       "      <td>...</td>\n",
       "      <td>...</td>\n",
       "      <td>...</td>\n",
       "      <td>...</td>\n",
       "      <td>...</td>\n",
       "      <td>...</td>\n",
       "      <td>...</td>\n",
       "      <td>...</td>\n",
       "      <td>...</td>\n",
       "      <td>...</td>\n",
       "      <td>...</td>\n",
       "      <td>...</td>\n",
       "      <td>...</td>\n",
       "      <td>...</td>\n",
       "      <td>...</td>\n",
       "      <td>...</td>\n",
       "      <td>...</td>\n",
       "      <td>...</td>\n",
       "      <td>...</td>\n",
       "    </tr>\n",
       "    <tr>\n",
       "      <th>564</th>\n",
       "      <td>NaN</td>\n",
       "      <td>22.39</td>\n",
       "      <td>142.00</td>\n",
       "      <td>1479.0</td>\n",
       "      <td>0.11100</td>\n",
       "      <td>0.11590</td>\n",
       "      <td>0.24390</td>\n",
       "      <td>0.13890</td>\n",
       "      <td>0.1726</td>\n",
       "      <td>0.05623</td>\n",
       "      <td>...</td>\n",
       "      <td>25.450</td>\n",
       "      <td>26.40</td>\n",
       "      <td>166.10</td>\n",
       "      <td>2027.0</td>\n",
       "      <td>0.14100</td>\n",
       "      <td>0.21130</td>\n",
       "      <td>0.4107</td>\n",
       "      <td>0.2216</td>\n",
       "      <td>0.2060</td>\n",
       "      <td>0.07115</td>\n",
       "    </tr>\n",
       "    <tr>\n",
       "      <th>565</th>\n",
       "      <td>NaN</td>\n",
       "      <td>28.25</td>\n",
       "      <td>131.20</td>\n",
       "      <td>1261.0</td>\n",
       "      <td>0.09780</td>\n",
       "      <td>0.10340</td>\n",
       "      <td>0.14400</td>\n",
       "      <td>0.09791</td>\n",
       "      <td>0.1752</td>\n",
       "      <td>0.05533</td>\n",
       "      <td>...</td>\n",
       "      <td>23.690</td>\n",
       "      <td>38.25</td>\n",
       "      <td>155.00</td>\n",
       "      <td>1731.0</td>\n",
       "      <td>0.11660</td>\n",
       "      <td>0.19220</td>\n",
       "      <td>0.3215</td>\n",
       "      <td>0.1628</td>\n",
       "      <td>0.2572</td>\n",
       "      <td>0.06637</td>\n",
       "    </tr>\n",
       "    <tr>\n",
       "      <th>566</th>\n",
       "      <td>28.080000</td>\n",
       "      <td>16.60</td>\n",
       "      <td>108.30</td>\n",
       "      <td>858.1</td>\n",
       "      <td>0.08455</td>\n",
       "      <td>0.10230</td>\n",
       "      <td>0.09251</td>\n",
       "      <td>0.05302</td>\n",
       "      <td>0.1590</td>\n",
       "      <td>0.05648</td>\n",
       "      <td>...</td>\n",
       "      <td>18.980</td>\n",
       "      <td>34.12</td>\n",
       "      <td>126.70</td>\n",
       "      <td>1124.0</td>\n",
       "      <td>0.11390</td>\n",
       "      <td>0.30940</td>\n",
       "      <td>0.3403</td>\n",
       "      <td>0.1418</td>\n",
       "      <td>0.2218</td>\n",
       "      <td>0.07820</td>\n",
       "    </tr>\n",
       "    <tr>\n",
       "      <th>567</th>\n",
       "      <td>NaN</td>\n",
       "      <td>29.33</td>\n",
       "      <td>140.10</td>\n",
       "      <td>1265.0</td>\n",
       "      <td>0.11780</td>\n",
       "      <td>0.27700</td>\n",
       "      <td>0.35140</td>\n",
       "      <td>0.15200</td>\n",
       "      <td>0.2397</td>\n",
       "      <td>0.07016</td>\n",
       "      <td>...</td>\n",
       "      <td>25.740</td>\n",
       "      <td>39.42</td>\n",
       "      <td>184.60</td>\n",
       "      <td>1821.0</td>\n",
       "      <td>0.16500</td>\n",
       "      <td>0.86810</td>\n",
       "      <td>0.9387</td>\n",
       "      <td>0.2650</td>\n",
       "      <td>0.4087</td>\n",
       "      <td>0.12400</td>\n",
       "    </tr>\n",
       "    <tr>\n",
       "      <th>568</th>\n",
       "      <td>30.496278</td>\n",
       "      <td>24.54</td>\n",
       "      <td>47.92</td>\n",
       "      <td>181.0</td>\n",
       "      <td>0.05263</td>\n",
       "      <td>0.04362</td>\n",
       "      <td>0.00000</td>\n",
       "      <td>0.00000</td>\n",
       "      <td>0.1587</td>\n",
       "      <td>0.05884</td>\n",
       "      <td>...</td>\n",
       "      <td>9.456</td>\n",
       "      <td>30.37</td>\n",
       "      <td>59.16</td>\n",
       "      <td>268.6</td>\n",
       "      <td>0.08996</td>\n",
       "      <td>0.06444</td>\n",
       "      <td>0.0000</td>\n",
       "      <td>0.0000</td>\n",
       "      <td>0.2871</td>\n",
       "      <td>0.07039</td>\n",
       "    </tr>\n",
       "  </tbody>\n",
       "</table>\n",
       "<p>569 rows × 30 columns</p>\n",
       "</div>"
      ],
      "text/plain": [
       "     radius_mean  texture_mean  perimeter_mean  area_mean  smoothness_mean  \\\n",
       "0            NaN         10.38          122.80     1001.0          0.11840   \n",
       "1            NaN         17.77          132.90     1326.0          0.08474   \n",
       "2            NaN         21.25          130.00     1203.0          0.10960   \n",
       "3       8.450199         20.38           77.58      386.1          0.14250   \n",
       "4       5.629733         14.34          135.10     1297.0          0.10030   \n",
       "..           ...           ...             ...        ...              ...   \n",
       "564          NaN         22.39          142.00     1479.0          0.11100   \n",
       "565          NaN         28.25          131.20     1261.0          0.09780   \n",
       "566    28.080000         16.60          108.30      858.1          0.08455   \n",
       "567          NaN         29.33          140.10     1265.0          0.11780   \n",
       "568    30.496278         24.54           47.92      181.0          0.05263   \n",
       "\n",
       "     compactness_mean  concavity_mean  concave points_mean  symmetry_mean  \\\n",
       "0             0.27760         0.30010              0.14710         0.2419   \n",
       "1             0.07864         0.08690              0.07017         0.1812   \n",
       "2             0.15990         0.19740              0.12790         0.2069   \n",
       "3             0.28390         0.24140              0.10520         0.2597   \n",
       "4             0.13280         0.19800              0.10430         0.1809   \n",
       "..                ...             ...                  ...            ...   \n",
       "564           0.11590         0.24390              0.13890         0.1726   \n",
       "565           0.10340         0.14400              0.09791         0.1752   \n",
       "566           0.10230         0.09251              0.05302         0.1590   \n",
       "567           0.27700         0.35140              0.15200         0.2397   \n",
       "568           0.04362         0.00000              0.00000         0.1587   \n",
       "\n",
       "     fractal_dimension_mean  ...  radius_worst  texture_worst  \\\n",
       "0                   0.07871  ...        25.380          17.33   \n",
       "1                   0.05667  ...        24.990          23.41   \n",
       "2                   0.05999  ...        23.570          25.53   \n",
       "3                   0.09744  ...        14.910          26.50   \n",
       "4                   0.05883  ...        22.540          16.67   \n",
       "..                      ...  ...           ...            ...   \n",
       "564                 0.05623  ...        25.450          26.40   \n",
       "565                 0.05533  ...        23.690          38.25   \n",
       "566                 0.05648  ...        18.980          34.12   \n",
       "567                 0.07016  ...        25.740          39.42   \n",
       "568                 0.05884  ...         9.456          30.37   \n",
       "\n",
       "     perimeter_worst  area_worst  smoothness_worst  compactness_worst  \\\n",
       "0             184.60      2019.0           0.16220            0.66560   \n",
       "1             158.80      1956.0           0.12380            0.18660   \n",
       "2             152.50      1709.0           0.14440            0.42450   \n",
       "3              98.87       567.7           0.20980            0.86630   \n",
       "4             152.20      1575.0           0.13740            0.20500   \n",
       "..               ...         ...               ...                ...   \n",
       "564           166.10      2027.0           0.14100            0.21130   \n",
       "565           155.00      1731.0           0.11660            0.19220   \n",
       "566           126.70      1124.0           0.11390            0.30940   \n",
       "567           184.60      1821.0           0.16500            0.86810   \n",
       "568            59.16       268.6           0.08996            0.06444   \n",
       "\n",
       "     concavity_worst  concave points_worst  symmetry_worst  \\\n",
       "0             0.7119                0.2654          0.4601   \n",
       "1             0.2416                0.1860          0.2750   \n",
       "2             0.4504                0.2430          0.3613   \n",
       "3             0.6869                0.2575          0.6638   \n",
       "4             0.4000                0.1625          0.2364   \n",
       "..               ...                   ...             ...   \n",
       "564           0.4107                0.2216          0.2060   \n",
       "565           0.3215                0.1628          0.2572   \n",
       "566           0.3403                0.1418          0.2218   \n",
       "567           0.9387                0.2650          0.4087   \n",
       "568           0.0000                0.0000          0.2871   \n",
       "\n",
       "     fractal_dimension_worst  \n",
       "0                    0.11890  \n",
       "1                    0.08902  \n",
       "2                    0.08758  \n",
       "3                    0.17300  \n",
       "4                    0.07678  \n",
       "..                       ...  \n",
       "564                  0.07115  \n",
       "565                  0.06637  \n",
       "566                  0.07820  \n",
       "567                  0.12400  \n",
       "568                  0.07039  \n",
       "\n",
       "[569 rows x 30 columns]"
      ]
     },
     "execution_count": 19,
     "metadata": {},
     "output_type": "execute_result"
    }
   ],
   "source": [
    "    \n",
    "data_corruptor = DataCorruptor(X,feature_cols)\n",
    "data_corruptor.get_dataset_with_corrupted_col('radius_mean')"
   ]
  },
  {
   "cell_type": "code",
   "execution_count": 20,
   "metadata": {
    "pycharm": {
     "is_executing": false
    }
   },
   "outputs": [
    {
     "name": "stdout",
     "output_type": "stream",
     "text": [
      " The RandomForest Feature ranking:\n",
      "20. radius_worst  (0.129673)\n",
      "27. concave points_worst  (0.127878)\n",
      "22. perimeter_worst  (0.110051)\n",
      "7. concave points_mean  (0.108381)\n",
      "23. area_worst  (0.102829)\n",
      "2. perimeter_mean  (0.059856)\n",
      "3. area_mean  (0.048594)\n",
      "6. concavity_mean  (0.038963)\n",
      "10. radius_se  (0.034113)\n",
      "0. radius_mean  (0.028844)\n",
      "26. concavity_worst  (0.028008)\n",
      "13. area_se  (0.021059)\n",
      "5. compactness_mean  (0.020298)\n",
      "25. compactness_worst  (0.017045)\n",
      "21. texture_worst  (0.015845)\n",
      "24. smoothness_worst  (0.014438)\n",
      "1. texture_mean  (0.014241)\n",
      "12. perimeter_se  (0.012902)\n",
      "28. symmetry_worst  (0.009917)\n",
      "17. concave points_se  (0.009287)\n",
      "29. fractal_dimension_worst  (0.008279)\n",
      "4. smoothness_mean  (0.005919)\n",
      "15. compactness_se  (0.005527)\n",
      "19. fractal_dimension_se  (0.005115)\n",
      "16. concavity_se  (0.005012)\n",
      "11. texture_se  (0.004532)\n",
      "9. fractal_dimension_mean  (0.003925)\n",
      "14. smoothness_se  (0.003688)\n",
      "8. symmetry_mean  (0.003660)\n",
      "18. symmetry_se  (0.002121)\n"
     ]
    }
   ],
   "source": [
    "#implement featureimportances attributes in random forest  to see the importance of a feature \n",
    "clf_rf_5 = RandomForestClassifier()      \n",
    "clr_rf_5 = clf_rf_5.fit(X,y)\n",
    "importances = clr_rf_5.feature_importances_\n",
    "indices = np.argsort(importances)[::-1]\n",
    "\n",
    "# Print the feature ranking\n",
    "print(\" The RandomForest Feature ranking:\")\n",
    "\n",
    "for f in range(X.shape[1]):\n",
    "    print(\"%d. %s  (%f)\" % (indices[f],feature_cols[indices[f]], importances[indices[f]]))"
   ]
  },
  {
   "cell_type": "code",
   "execution_count": 21,
   "metadata": {
    "pycharm": {
     "is_executing": false
    }
   },
   "outputs": [],
   "source": [
    "# This function returns you a pippeline for specified features repesentation \n",
    "def get_pipeline(X,model=None):\n",
    "    \"\"\"Get a sklearn pipeline that is adjusted to the dataset X \"\"\" \n",
    "    numeric_features = X.select_dtypes(include=\"number\").columns.to_list()\n",
    "    categorical_features = X.select_dtypes(include=\"object\").columns.to_list()\n",
    "\n",
    "    if model is None:\n",
    "        model =LogisticRegression()\n",
    "    #TODO: Make this funtion parametrisable so it takes numeric/categorical transofmers as parameters \n",
    "    numeric_transformer = Pipeline(steps=[\n",
    "        ('imputer', SimpleImputer(strategy='median')),\n",
    "        ('scaler', StandardScaler())])\n",
    "\n",
    "    categorical_transformer = Pipeline(steps=[\n",
    "        ('imputer', SimpleImputer(strategy='constant', fill_value='missing')),\n",
    "        ('onehot', OneHotEncoder(handle_unknown='ignore'))])\n",
    "\n",
    "    preprocessor = ColumnTransformer(\n",
    "        transformers=[\n",
    "            ('num', numeric_transformer, numeric_features),\n",
    "            ('cat', categorical_transformer, categorical_features)])\n",
    "\n",
    "    return Pipeline(steps=[('preprocessor', preprocessor),\n",
    "                      ('classifier', model)])\n",
    "\n",
    "\n",
    "top_5_rfe =['area_mean', 'concavity_mean', 'area_se', 'concavity_worst',\n",
    "       'symmetry_worst']\n",
    "\n",
    "top_10_rfe = ['texture_mean', 'area_mean', 'smoothness_mean', 'concavity_mean',\n",
    "       'fractal_dimension_mean', 'area_se', 'concavity_se', 'smoothness_worst',\n",
    "       'concavity_worst', 'symmetry_worst']\n",
    "\n",
    "top_5_error_ranking= ['texture_mean','radius_mean','perimeter_mean','area_mean','fractal_dimension_mean']\n",
    "top_10_error_ranking= ['texture_mean','radius_mean','perimeter_mean','area_mean','fractal_dimension_mean',\n",
    "                       'compactness_mean','smoothness_mean','concave points_mean','concavity_mean','symmetry_mean']\n",
    "\n",
    "\n",
    "clf = get_pipeline(X)\n",
    "clf_rfe = get_pipeline(X[top_5_rfe])\n",
    "clf_rfe_top10 = get_pipeline(X[top_5_rfe])\n",
    "clf_rfe_top5_error = get_pipeline(X[top_5_error_ranking])\n",
    "clf_rfe_top10_error = get_pipeline(X[top_10_error_ranking])"
   ]
  },
  {
   "cell_type": "code",
   "execution_count": 22,
   "metadata": {
    "pycharm": {
     "is_executing": false
    }
   },
   "outputs": [],
   "source": [
    "X,y = load_data()\n",
    "X_train, X_test, y_train, y_test = train_test_split(X, y, test_size=0.2)\n",
    "\n",
    "\n",
    "X_test_rfe, X_train_rfe =X_test[top_5_rfe],X_train[top_5_rfe]\n",
    "X_test_5_error, X_train_5_error =X_test[top_5_error_ranking],X_train[top_5_error_ranking]\n",
    "X_test_10_error, X_train_10_error =X_test[top_10_error_ranking],X_train[top_10_error_ranking]\n"
   ]
  },
  {
   "cell_type": "code",
   "execution_count": 23,
   "metadata": {},
   "outputs": [
    {
     "name": "stdout",
     "output_type": "stream",
     "text": [
      "All featues model score: 0.991\n",
      "RFE selected features  model score: 0.991\n",
      "Top 5 Error exepriemnt featues model score: 0.991\n",
      "TOp 10 Error exepriemnt featues model score: 0.991\n"
     ]
    }
   ],
   "source": [
    "clf_rfe_top10_error.fit(X_train_10_error, y_train)\n",
    "\n",
    "clf_rfe_top5_error.fit(X_train_5_error, y_train)\n",
    "clf_rfe.fit(X_train_rfe, y_train)\n",
    "clf.fit(X_train, y_train)\n",
    "\n",
    "\n",
    "clean_test_baseline= clf.score(X_test, y_test)\n",
    "print(\"All featues model score: %.3f\" % clean_test_baseline)\n",
    "\n",
    "clean_test_rfe= clf_rfe.score(X_test_rfe, y_test)\n",
    "print(\"RFE selected features  model score: %.3f\" % clean_test_baseline)\n",
    "\n",
    "clean_test_top5_error= clf_rfe_top5_error.score(X_test_5_error, y_test)\n",
    "print(\"Top 5 Error exepriemnt featues model score: %.3f\" % clean_test_baseline)\n",
    "\n",
    "clean_test_top10_error= clf_rfe_top10_error.score(X_test_10_error, y_test)\n",
    "print(\"TOp 10 Error exepriemnt featues model score: %.3f\" % clean_test_baseline)"
   ]
  },
  {
   "cell_type": "code",
   "execution_count": 24,
   "metadata": {
    "pycharm": {
     "is_executing": false
    }
   },
   "outputs": [
    {
     "name": "stdout",
     "output_type": "stream",
     "text": [
      "Feature Ranking Error\n",
      "model score: 0.982\n",
      "model score: 0.965\n",
      "model score: 0.877\n",
      "model score: 0.772\n",
      "model score: 0.711\n",
      "model score: 0.746\n",
      "model score: 0.737\n",
      "model score: 0.693\n",
      "model score: 0.702\n",
      "model score: 0.711\n",
      "model score: 0.693\n",
      "model score: 0.658\n",
      "model score: 0.649\n",
      "model score: 0.632\n",
      "model score: 0.570\n",
      "model score: 0.596\n",
      "model score: 0.596\n",
      "model score: 0.570\n",
      "model score: 0.579\n",
      "model score: 0.623\n",
      "model score: 0.640\n",
      "model score: 0.649\n",
      "model score: 0.658\n",
      "model score: 0.623\n",
      "model score: 0.579\n",
      "model score: 0.596\n",
      "model score: 0.596\n",
      "model score: 0.570\n",
      "model score: 0.561\n",
      "model score: 0.561\n"
     ]
    }
   ],
   "source": [
    "data_corruptor = DataCorruptor(X_test,feature_cols,feature_stats)\n",
    "res_= []\n",
    "\n",
    "print('Feature Ranking Error')\n",
    "for idx,column in enumerate(feature_cols):\n",
    "    corrupted_score = clf.score(data_corruptor.get_dataset_with_corrupted_col(column), y_test)\n",
    "    loss = corrupted_score - clean_test_baseline\n",
    "    res_.append([column,corrupted_score,loss])\n",
    "    print(\"model score: %.3f\" % corrupted_score)"
   ]
  },
  {
   "cell_type": "code",
   "execution_count": 25,
   "metadata": {
    "pycharm": {
     "is_executing": false
    }
   },
   "outputs": [
    {
     "data": {
      "image/png": "[encoded data removed]",
      "text/plain": [
       "<Figure size 1440x648 with 1 Axes>"
      ]
     },
     "metadata": {
      "needs_background": "light"
     },
     "output_type": "display_data"
    }
   ],
   "source": [
    "error_feature_ranking= pd.DataFrame(res_,columns=['col_name','model_score','loss_in_accuracy']).sort_values(by='loss_in_accuracy',ascending=False)\n",
    "plot=error_feature_ranking.set_index('col_name').plot(kind='bar',figsize=(20,9))\n",
    "plt.xticks(rotation=45,fontsize='large',fontweight='bold')\n",
    "\n",
    "\n",
    "for p in plot.patches:\n",
    "    plt.text(*(p.get_x() * 1.015, p.get_height() * 1.015),\"%.3f\" % float(p.get_height()), rotation=45,fontsize='large')\n",
    "    #plot.annotate(str(p.get_height()), (p.get_x() * 1.015, p.get_height() * 1.015))\n",
    "\n",
    "#disrupted_feature_ranking = pd.concat([pd.DataFrame(res,columns=['feature','score','loss']),] ).sort_values(by='loss',ascending=False).drop('score',axis=1)"
   ]
  },
  {
   "cell_type": "code",
   "execution_count": 26,
   "metadata": {
    "pycharm": {
     "is_executing": false
    }
   },
   "outputs": [],
   "source": [
    "def do_experiment(clf,X_test,y_test,feature_cols):\n",
    "    \n",
    "    data_corruptor = DataCorruptor(X_test,feature_cols)\n",
    "    total_cells = X_test.shape[0] * X_test.shape[1]\n",
    "    res= []\n",
    "    for n in range(total_cells):\n",
    "            #print(y_test)\n",
    "            corrupted_score = clf.score(data_corruptor.get_dataset_with_corrupted_cell(), y_test)\n",
    "            res.append([(n/total_cells),corrupted_score])\n",
    "    df = pd.DataFrame(res,columns=['%Corrupted','Score'])\n",
    "    \n",
    "    print('Area under the curve {}'.format(np.trapz(df['Score'],df['%Corrupted'])))\n",
    "    return df\n"
   ]
  },
  {
   "cell_type": "code",
   "execution_count": 16,
   "metadata": {},
   "outputs": [
    {
     "name": "stdout",
     "output_type": "stream",
     "text": [
      "Area under the curve 0.7126167025751514\n",
      "Area under the curve 0.6624345952600799\n",
      "Area under the curve 0.6193521083410279\n",
      "Area under the curve 0.749145891043398\n"
     ]
    }
   ],
   "source": [
    "experiment_df = do_experiment(clf,X_test,y_test,feature_cols)\n",
    "expeirment_df_rfe = do_experiment(clf_rfe,X_test_rfe,y_test,top_5_rfe)\n",
    "experiment_df_5_error = do_experiment(clf_rfe_top5_error,X_test_5_error,y_test,top_5_error_ranking)\n",
    "experiment_df_10_error = do_experiment(clf_rfe_top10_error,X_test_10_error,y_test,top_10_error_ranking)"
   ]
  },
  {
   "cell_type": "markdown",
   "metadata": {},
   "source": [
    "- Base case :  0.622609520878219\n",
    "- RFE :  0.6459449061249616\n",
    "- Top 5 Error :  0.6499461372730071\n",
    "- Top 10 Error :  0.710299322868575"
   ]
  },
  {
   "cell_type": "code",
   "execution_count": 27,
   "metadata": {},
   "outputs": [
    {
     "ename": "NameError",
     "evalue": "name 'experiment_df' is not defined",
     "output_type": "error",
     "traceback": [
      "\u001b[0;31m---------------------------------------------------------------------------\u001b[0m",
      "\u001b[0;31mNameError\u001b[0m                                 Traceback (most recent call last)",
      "\u001b[0;32m<ipython-input-27-b04f974a5e4a>\u001b[0m in \u001b[0;36m<module>\u001b[0;34m\u001b[0m\n\u001b[0;32m----> 1\u001b[0;31m \u001b[0mexperiment_df\u001b[0m\u001b[0;34m.\u001b[0m\u001b[0mplot\u001b[0m\u001b[0;34m(\u001b[0m\u001b[0mfigsize\u001b[0m\u001b[0;34m=\u001b[0m\u001b[0;34m(\u001b[0m\u001b[0;36m16\u001b[0m\u001b[0;34m,\u001b[0m\u001b[0;36m9\u001b[0m\u001b[0;34m)\u001b[0m\u001b[0;34m,\u001b[0m\u001b[0mgrid\u001b[0m\u001b[0;34m=\u001b[0m\u001b[0;32mTrue\u001b[0m\u001b[0;34m,\u001b[0m\u001b[0mlinestyle\u001b[0m\u001b[0;34m=\u001b[0m\u001b[0;34m'-'\u001b[0m\u001b[0;34m)\u001b[0m\u001b[0;34m.\u001b[0m\u001b[0mfill_between\u001b[0m\u001b[0;34m(\u001b[0m\u001b[0mexperiment_df\u001b[0m\u001b[0;34m.\u001b[0m\u001b[0mindex\u001b[0m\u001b[0;34m,\u001b[0m\u001b[0mexperiment_df\u001b[0m\u001b[0;34m[\u001b[0m\u001b[0;34m'Score'\u001b[0m\u001b[0;34m]\u001b[0m\u001b[0;34m,\u001b[0m\u001b[0mcolor\u001b[0m\u001b[0;34m=\u001b[0m\u001b[0;34m'lightgrey'\u001b[0m\u001b[0;34m,\u001b[0m\u001b[0malpha\u001b[0m\u001b[0;34m=\u001b[0m\u001b[0;36m0.5\u001b[0m\u001b[0;34m)\u001b[0m\u001b[0;34m\u001b[0m\u001b[0;34m\u001b[0m\u001b[0m\n\u001b[0m\u001b[1;32m      2\u001b[0m \u001b[0;34m\u001b[0m\u001b[0m\n\u001b[1;32m      3\u001b[0m \u001b[0mexpeirment_df_rfe\u001b[0m\u001b[0;34m.\u001b[0m\u001b[0mplot\u001b[0m\u001b[0;34m(\u001b[0m\u001b[0mfigsize\u001b[0m\u001b[0;34m=\u001b[0m\u001b[0;34m(\u001b[0m\u001b[0;36m16\u001b[0m\u001b[0;34m,\u001b[0m\u001b[0;36m9\u001b[0m\u001b[0;34m)\u001b[0m\u001b[0;34m,\u001b[0m\u001b[0mgrid\u001b[0m\u001b[0;34m=\u001b[0m\u001b[0;32mTrue\u001b[0m\u001b[0;34m,\u001b[0m\u001b[0mlinestyle\u001b[0m\u001b[0;34m=\u001b[0m\u001b[0;34m'-'\u001b[0m\u001b[0;34m)\u001b[0m\u001b[0;34m.\u001b[0m\u001b[0mfill_between\u001b[0m\u001b[0;34m(\u001b[0m\u001b[0mexpeirment_df_rfe\u001b[0m\u001b[0;34m.\u001b[0m\u001b[0mindex\u001b[0m\u001b[0;34m,\u001b[0m\u001b[0mexpeirment_df_rfe\u001b[0m\u001b[0;34m[\u001b[0m\u001b[0;34m'Score'\u001b[0m\u001b[0;34m]\u001b[0m\u001b[0;34m,\u001b[0m\u001b[0mcolor\u001b[0m\u001b[0;34m=\u001b[0m\u001b[0;34m'lightgrey'\u001b[0m\u001b[0;34m,\u001b[0m\u001b[0malpha\u001b[0m\u001b[0;34m=\u001b[0m\u001b[0;36m0.5\u001b[0m\u001b[0;34m)\u001b[0m\u001b[0;34m\u001b[0m\u001b[0;34m\u001b[0m\u001b[0m\n\u001b[1;32m      4\u001b[0m \u001b[0mexperiment_df_5_error\u001b[0m\u001b[0;34m.\u001b[0m\u001b[0mplot\u001b[0m\u001b[0;34m(\u001b[0m\u001b[0mfigsize\u001b[0m\u001b[0;34m=\u001b[0m\u001b[0;34m(\u001b[0m\u001b[0;36m16\u001b[0m\u001b[0;34m,\u001b[0m\u001b[0;36m9\u001b[0m\u001b[0;34m)\u001b[0m\u001b[0;34m,\u001b[0m\u001b[0mgrid\u001b[0m\u001b[0;34m=\u001b[0m\u001b[0;32mTrue\u001b[0m\u001b[0;34m,\u001b[0m\u001b[0mlinestyle\u001b[0m\u001b[0;34m=\u001b[0m\u001b[0;34m'-'\u001b[0m\u001b[0;34m)\u001b[0m\u001b[0;34m.\u001b[0m\u001b[0mfill_between\u001b[0m\u001b[0;34m(\u001b[0m\u001b[0mexperiment_df_5_error\u001b[0m\u001b[0;34m.\u001b[0m\u001b[0mindex\u001b[0m\u001b[0;34m,\u001b[0m\u001b[0mexperiment_df_5_error\u001b[0m\u001b[0;34m[\u001b[0m\u001b[0;34m'Score'\u001b[0m\u001b[0;34m]\u001b[0m\u001b[0;34m,\u001b[0m\u001b[0mcolor\u001b[0m\u001b[0;34m=\u001b[0m\u001b[0;34m'lightgrey'\u001b[0m\u001b[0;34m,\u001b[0m\u001b[0malpha\u001b[0m\u001b[0;34m=\u001b[0m\u001b[0;36m0.5\u001b[0m\u001b[0;34m)\u001b[0m\u001b[0;34m\u001b[0m\u001b[0;34m\u001b[0m\u001b[0m\n\u001b[1;32m      5\u001b[0m \u001b[0mexperiment_df_10_error\u001b[0m\u001b[0;34m.\u001b[0m\u001b[0mplot\u001b[0m\u001b[0;34m(\u001b[0m\u001b[0mfigsize\u001b[0m\u001b[0;34m=\u001b[0m\u001b[0;34m(\u001b[0m\u001b[0;36m16\u001b[0m\u001b[0;34m,\u001b[0m\u001b[0;36m9\u001b[0m\u001b[0;34m)\u001b[0m\u001b[0;34m,\u001b[0m\u001b[0mgrid\u001b[0m\u001b[0;34m=\u001b[0m\u001b[0;32mTrue\u001b[0m\u001b[0;34m,\u001b[0m\u001b[0mlinestyle\u001b[0m\u001b[0;34m=\u001b[0m\u001b[0;34m'-'\u001b[0m\u001b[0;34m)\u001b[0m\u001b[0;34m.\u001b[0m\u001b[0mfill_between\u001b[0m\u001b[0;34m(\u001b[0m\u001b[0mexperiment_df_10_error\u001b[0m\u001b[0;34m.\u001b[0m\u001b[0mindex\u001b[0m\u001b[0;34m,\u001b[0m\u001b[0mexperiment_df_10_error\u001b[0m\u001b[0;34m[\u001b[0m\u001b[0;34m'Score'\u001b[0m\u001b[0;34m]\u001b[0m\u001b[0;34m,\u001b[0m\u001b[0mcolor\u001b[0m\u001b[0;34m=\u001b[0m\u001b[0;34m'lightgrey'\u001b[0m\u001b[0;34m,\u001b[0m\u001b[0malpha\u001b[0m\u001b[0;34m=\u001b[0m\u001b[0;36m0.5\u001b[0m\u001b[0;34m)\u001b[0m\u001b[0;34m\u001b[0m\u001b[0;34m\u001b[0m\u001b[0m\n",
      "\u001b[0;31mNameError\u001b[0m: name 'experiment_df' is not defined"
     ]
    }
   ],
   "source": [
    "experiment_df.plot(figsize=(16,9),grid=True,linestyle='-').fill_between(experiment_df.index,experiment_df['Score'],color='lightgrey',alpha=0.5)\n",
    "\n",
    "expeirment_df_rfe.plot(figsize=(16,9),grid=True,linestyle='-').fill_between(expeirment_df_rfe.index,expeirment_df_rfe['Score'],color='lightgrey',alpha=0.5)\n",
    "experiment_df_5_error.plot(figsize=(16,9),grid=True,linestyle='-').fill_between(experiment_df_5_error.index,experiment_df_5_error['Score'],color='lightgrey',alpha=0.5)\n",
    "experiment_df_10_error.plot(figsize=(16,9),grid=True,linestyle='-').fill_between(experiment_df_10_error.index,experiment_df_10_error['Score'],color='lightgrey',alpha=0.5)"
   ]
  },
  {
   "cell_type": "code",
   "execution_count": 28,
   "metadata": {},
   "outputs": [],
   "source": [
    "def split_fit_corrupt_measure(X,train_index,test_index,list_without_feature):\n",
    "    X_train, X_test = X[list_without_feature].iloc[train_index], X[list_without_feature].iloc[test_index]\n",
    "    y_train, y_test = y[train_index], y[test_index]\n",
    "\n",
    "    fitted_pipeline = get_pipeline(X_train).fit(X_train,y_train)\n",
    "\n",
    "    #print([x[:5] for x in list_without_feature],)\n",
    "    return measure_error_auc(fitted_pipeline,\n",
    "                  X_test,\n",
    "                  y_test,\n",
    "                  list_without_feature)\n",
    "\n",
    "\n",
    "\n",
    "def measure_error_auc(clf,X_test,y_test,feature_cols):\n",
    "\n",
    "    data_corruptor = DataCorruptor(X_test,feature_cols)\n",
    "    total_cells = X_test.shape[0] * X_test.shape[1]\n",
    "    res= []\n",
    "    for n in range(total_cells):\n",
    "            corrupted_score = clf.score(data_corruptor.get_dataset_with_corrupted_cell(), y_test)\n",
    "            res.append([(n/total_cells),corrupted_score])\n",
    "    df = pd.DataFrame(res,columns=['%Corrupted','Score'])\n",
    "\n",
    "    #print('Area under the curve {}'.format(np.trapz(df['Score'],df['%Corrupted'])))\n",
    "    return np.trapz(df['Score'],df['%Corrupted'])   "
   ]
  },
  {
   "cell_type": "code",
   "execution_count": 24,
   "metadata": {},
   "outputs": [
    {
     "ename": "NameError",
     "evalue": "name 'split_fit_corrupt_measure' is not defined",
     "output_type": "error",
     "traceback": [
      "\u001b[0;31m---------------------------------------------------------------------------\u001b[0m",
      "\u001b[0;31mNameError\u001b[0m                                 Traceback (most recent call last)",
      "\u001b[0;32m<ipython-input-24-b5375c00e463>\u001b[0m in \u001b[0;36m<module>\u001b[0;34m\u001b[0m\n\u001b[1;32m     61\u001b[0m \u001b[0;34m\u001b[0m\u001b[0m\n\u001b[1;32m     62\u001b[0m \u001b[0;34m\u001b[0m\u001b[0m\n\u001b[0;32m---> 63\u001b[0;31m \u001b[0merror_backward_selection\u001b[0m\u001b[0;34m(\u001b[0m\u001b[0mX\u001b[0m\u001b[0;34m,\u001b[0m\u001b[0my\u001b[0m\u001b[0;34m)\u001b[0m\u001b[0;34m\u001b[0m\u001b[0;34m\u001b[0m\u001b[0m\n\u001b[0m",
      "\u001b[0;32m<ipython-input-24-b5375c00e463>\u001b[0m in \u001b[0;36merror_backward_selection\u001b[0;34m(X, y)\u001b[0m\n\u001b[1;32m     38\u001b[0m         \u001b[0;32mfor\u001b[0m \u001b[0mtrain_index\u001b[0m\u001b[0;34m,\u001b[0m \u001b[0mtest_index\u001b[0m \u001b[0;32min\u001b[0m \u001b[0mkf\u001b[0m\u001b[0;34m.\u001b[0m\u001b[0msplit\u001b[0m\u001b[0;34m(\u001b[0m\u001b[0mX\u001b[0m\u001b[0;34m)\u001b[0m\u001b[0;34m:\u001b[0m\u001b[0;34m\u001b[0m\u001b[0;34m\u001b[0m\u001b[0m\n\u001b[1;32m     39\u001b[0m             \u001b[0;31m#print(\"TRAIN:\", train_index, \"TEST:\", test_index)\u001b[0m\u001b[0;34m\u001b[0m\u001b[0;34m\u001b[0m\u001b[0;34m\u001b[0m\u001b[0m\n\u001b[0;32m---> 40\u001b[0;31m             \u001b[0mpool\u001b[0m\u001b[0;34m.\u001b[0m\u001b[0mapply_async\u001b[0m\u001b[0;34m(\u001b[0m\u001b[0msplit_fit_corrupt_measure\u001b[0m\u001b[0;34m,\u001b[0m \u001b[0margs\u001b[0m\u001b[0;34m=\u001b[0m\u001b[0;34m(\u001b[0m\u001b[0mX\u001b[0m\u001b[0;34m,\u001b[0m\u001b[0mtrain_index\u001b[0m\u001b[0;34m,\u001b[0m\u001b[0mtest_index\u001b[0m\u001b[0;34m,\u001b[0m\u001b[0mlist_without_feature\u001b[0m\u001b[0;34m)\u001b[0m\u001b[0;34m,\u001b[0m \u001b[0mcallback\u001b[0m \u001b[0;34m=\u001b[0m \u001b[0mlog_result\u001b[0m\u001b[0;34m)\u001b[0m\u001b[0;34m\u001b[0m\u001b[0;34m\u001b[0m\u001b[0m\n\u001b[0m\u001b[1;32m     41\u001b[0m             \u001b[0;31m#X_train, X_test = X[list_without_feature].iloc[train_index], X[list_without_feature].iloc[test_index]\u001b[0m\u001b[0;34m\u001b[0m\u001b[0;34m\u001b[0m\u001b[0;34m\u001b[0m\u001b[0m\n\u001b[1;32m     42\u001b[0m             \u001b[0;31m#y_train, y_test = y[train_index], y[test_index]\u001b[0m\u001b[0;34m\u001b[0m\u001b[0;34m\u001b[0m\u001b[0;34m\u001b[0m\u001b[0m\n",
      "\u001b[0;31mNameError\u001b[0m: name 'split_fit_corrupt_measure' is not defined"
     ]
    }
   ],
   "source": [
    "from itertools import compress as mask_arr\n",
    "from sklearn.model_selection import cross_val_score \n",
    "from sklearn.model_selection import KFold\n",
    "import multiprocessing as mp\n",
    "mp.set_start_method('spawn',force=True)\n",
    "\n",
    "def error_backward_selection(X,y):\n",
    "    res_dict = {}\n",
    "    kf = KFold(n_splits=10)\n",
    "    initial_features = X.columns.tolist()\n",
    "    selected_features =initial_features[:] #Copy\n",
    "    candidates_to_remove = selected_features\n",
    "\n",
    "    #CV of the base feature representation\n",
    "    #base_res= np.array([])\n",
    "    #for train_index, test_index in kf.split(X):\n",
    "    #    X_train, X_test = X.iloc[train_index], X.iloc[test_index]\n",
    "    #    y_train, y_test = y[train_index], y[test_index]\n",
    "    #    fitted_pipeline = get_pipeline(X_train).fit(X_train,y_train)\n",
    "    #    auc_score = measure_error_auc(fitted_pipeline,\n",
    "    #                      X_test,\n",
    "    #                      y_test,\n",
    "    #                      X.columns.tolist())\n",
    "    #    base_res =np.append(base_res,auc_score)\n",
    "    #    print('baseline auc: {}'.format(auc_score))\n",
    "    #print(\"Baseline averaage error AUC score after CV {}\".format(base_res.mean()))\n",
    "    for feature in candidates_to_remove:\n",
    "        pool = mp.Pool(mp.cpu_count()-1)\n",
    "        mask = [0 if x is feature else 1 for x in candidates_to_remove]\n",
    "        list_without_feature = list(mask_arr(selected_features,mask))\n",
    "        \n",
    "        results = []\n",
    "        def log_result(x):\n",
    "            print('sd')\n",
    "            results.append(x)\n",
    "        #Cross Validate\n",
    "        tmp_res =np.array([])\n",
    "        for train_index, test_index in kf.split(X):\n",
    "            #print(\"TRAIN:\", train_index, \"TEST:\", test_index)\n",
    "            pool.apply_async(split_fit_corrupt_measure, args=(X,train_index,test_index,list_without_feature), callback = log_result)\n",
    "            #X_train, X_test = X[list_without_feature].iloc[train_index], X[list_without_feature].iloc[test_index]\n",
    "            #y_train, y_test = y[train_index], y[test_index]\n",
    "            \n",
    "            #fitted_pipeline = get_pipeline(X_train).fit(X_train,y_train)\n",
    "            \n",
    "            #print([x[:5] for x in list_without_feature],)\n",
    "            #representation_auc  = measure_error_auc(fitted_pipeline,\n",
    "            #              X_test,\n",
    "            #              y_test,\n",
    "            #              list_without_feature)\n",
    "            #tmp_res = np.append(tmp_res,representation_auc)\n",
    "        # Close the pool for new tasks\n",
    "        pool.close()\n",
    "\n",
    "        # Wait for all tasks to complete at this point\n",
    "        pool.join()\n",
    "        print([x[:5] for x in list_without_feature], results)\n",
    "\n",
    "\n",
    "     \n",
    "\n",
    "        \n",
    "error_backward_selection(X,y)    "
   ]
  },
  {
   "cell_type": "markdown",
   "metadata": {},
   "source": [
    "Picking high k for Kfold validation helps to stabilize the scores \n",
    "\n",
    "5-fold validation scores\n",
    "0.6187251411489927\n",
    "0.6242285033968857\n",
    "0.6173170104296546\n",
    "0.6233347466250512\n",
    "0.6515760685591371\n",
    "\n",
    "10-Fold Validation scores:\n",
    "0.6361854497877946\n",
    "0.6268862124047063\n",
    "0.6437379181820466\n",
    "0.6437379181820466\n",
    "0.6316132032318159\n",
    "0.6316132032318159"
   ]
  },
  {
   "cell_type": "code",
   "execution_count": null,
   "metadata": {},
   "outputs": [],
   "source": [
    "class AccErrorSelection:\n",
    "    def __init__(self,data,target,model=None):\n",
    "        self.data = data.copy()\n",
    "        self.target = target\n",
    "        self.model = model\n",
    "        \n",
    "        self.X_train, self.X_test, self.y_train, self.y_test = train_test_split(data,target, test_size=0.20)\n",
    "        self.clean_test_baseline_score = self.measure_model_performance(self.X_train, self.X_test, self.y_train, self.y_test) #TODO: \n",
    "        \n",
    "        self.error_test_baseline_score = self.measure_error_auc(self.get_pipeline(self.X_train).fit(self.X_train,self.y_train),\n",
    "                                                                self.X_test,\n",
    "                                                                self.y_test,\n",
    "                                                                data.columns.tolist())\n",
    "        \n",
    "        self.best_acc_features = [] # List of features that has perfomed best wrt to accuracy of the model (or OLS)\n",
    "        self.best_error_features = [] # List of features that hes perfomed best wrt to error score\n",
    "\n",
    "    def measure_error_auc(self,clf,X_test,y_test,feature_cols):\n",
    "    \n",
    "        data_corruptor = DataCorruptor(X_test,feature_cols)\n",
    "        total_cells = X_test.shape[0] * X_test.shape[1]\n",
    "        res= []\n",
    "        for n in range(total_cells):\n",
    "                corrupted_score = clf.score(data_corruptor.get_dataset_with_corrupted_cell(), y_test)\n",
    "                res.append([(n/total_cells),corrupted_score])\n",
    "        df = pd.DataFrame(res,columns=['%Corrupted','Score'])\n",
    "\n",
    "        #print('Area under the curve {}'.format(np.trapz(df['Score'],df['%Corrupted'])))\n",
    "        return np.trapz(df['Score'],df['%Corrupted'])\n",
    "\n",
    "        \n",
    "    def measure_model_performance(self,X_train,X_test,y_train,y_test):\n",
    "        \"\"\" This helping function is used to retrive the perfomnace of the the model for a given feature representation. \n",
    "            It does retrive the pipeline, fit it with train data and evaluate performance    \n",
    "        \"\"\"\n",
    "        pipeline = self.get_pipeline(X_train)    \n",
    "        pipeline.fit(X_train,y_train)\n",
    "        return pipeline.score(X_test,y_test)\n",
    "\n",
    "    def get_feature_representations(feature_list_to_trim, feature_to_remove):\n",
    "        \n",
    "        pass\n",
    "        \n",
    "        \n",
    "    def forward_selection(self,significance_level=0.05):\n",
    "        initial_features = self.data.columns.tolist()\n",
    "        best_features = []\n",
    "        while (len(initial_features)>0):\n",
    "            remaining_features = list(set(initial_features)-set(best_features))\n",
    "            new_pval = pd.Series(index=remaining_features)\n",
    "            for new_column in remaining_features:\n",
    "                features_with_constant = sm.add_constant(self.data[best_features+[new_column]])\n",
    "                model = sm.OLS(self.target, features_with_constant).fit()\n",
    "                new_pval[new_column] = model.pvalues[new_column]\n",
    "            min_p_value = new_pval.min()\n",
    "            if(min_p_value<significance_level):\n",
    "                best_features.append(new_pval.idxmin())\n",
    "            else:\n",
    "                break\n",
    "        return best_features\n",
    "\n",
    "        \n",
    "    \n",
    "    \n",
    "    def backward_elimination(self,full_feature_list, significance_level = 0.05):\n",
    "        features = full_feature_list \n",
    "        results_dict = {}\n",
    "        score = self.measure_error_auc(self.get_pipeline(self.X_train[features]).fit(self.X_train[features],self.y_train),self.X_test[features],self.y_test,features)\n",
    "\n",
    "        for feature in full_feature_list:            \n",
    "                tmp_features=features\n",
    "                tmp_features.remove(feature)\n",
    "                auc = self.measure_error_auc(self.get_pipeline(self.X_train[tmp_features]).fit(self.X_train[tmp_features],self.y_train),self.X_test[tmp_features],self.y_test,tmp_features)\n",
    "                results_dict[repr(tmp_features)] = auc\n",
    "        #        features.remove(excluded_feature)\n",
    "\n",
    "        return features\n",
    "\n",
    "    def prepare_error_ranking(self,corruption_degree=0.95):\n",
    "        \"\"\" This function creates the initial ranking for of the features.\n",
    "            The ranking is created by corrupting every coolumn on by one and evaluation the perfomance drop for each corruption. \n",
    "            Corruption is parametrisable.\n",
    "            corruption_degree type: int \n",
    "        \"\"\"\n",
    "        feature_stats = self.data.describe().T[['mean', 'std', 'max', 'min']]\n",
    "        feature_cols = self.data.columns.to_list()\n",
    "        data_corruptor = DataCorruptor(self.X_test,feature_cols,feature_stats)\n",
    "        pipeline_model = self.get_pipeline(self.X_train,model=self.model)\n",
    "        pipeline_model.fit(self.X_train,self.y_train)\n",
    "        res_= []\n",
    "        print('Feature Ranking Error')\n",
    "        for idx,column in enumerate(feature_cols):\n",
    "            corrupted_score = pipeline_model.score(data_corruptor.get_dataset_with_corrupted_col(column), self.y_test)\n",
    "            loss = corrupted_score - self.clean_test_baseline_score\n",
    "            res_.append([column,corrupted_score,loss])\n",
    "            print(\"model score: %.3f\" % corrupted_score)\n",
    "        return res_\n",
    "        \n",
    "        \n",
    "\n",
    "    \n",
    "    "
   ]
  },
  {
   "cell_type": "code",
   "execution_count": null,
   "metadata": {},
   "outputs": [],
   "source": [
    "import statsmodels.api as sm\n",
    "aes = AccErrorSelection(X,y)\n",
    "\n",
    "aes.forward_selection()\n",
    "    "
   ]
  },
  {
   "cell_type": "code",
   "execution_count": null,
   "metadata": {},
   "outputs": [],
   "source": [
    "aes.prepare_error_ranking()"
   ]
  },
  {
   "cell_type": "code",
   "execution_count": null,
   "metadata": {},
   "outputs": [],
   "source": [
    "aes.error_test_baseline_score"
   ]
  },
  {
   "cell_type": "code",
   "execution_count": null,
   "metadata": {},
   "outputs": [],
   "source": [
    "aes.clean_test_baseline_score"
   ]
  },
  {
   "cell_type": "code",
   "execution_count": null,
   "metadata": {},
   "outputs": [],
   "source": [
    "aes.backward_elimination(aes.data.columns.tolist())"
   ]
  },
  {
   "cell_type": "markdown",
   "metadata": {},
   "source": [
    "Foward selecton \n",
    "\n"
   ]
  },
  {
   "cell_type": "code",
   "execution_count": null,
   "metadata": {},
   "outputs": [],
   "source": []
  },
  {
   "cell_type": "code",
   "execution_count": null,
   "metadata": {},
   "outputs": [],
   "source": []
  },
  {
   "cell_type": "code",
   "execution_count": null,
   "metadata": {},
   "outputs": [],
   "source": []
  },
  {
   "cell_type": "code",
   "execution_count": null,
   "metadata": {},
   "outputs": [],
   "source": []
  },
  {
   "cell_type": "code",
   "execution_count": 1,
   "metadata": {},
   "outputs": [
    {
     "name": "stdout",
     "output_type": "stream",
     "text": [
      "Collecting package metadata (repodata.json): done\n",
      "Solving environment: failed\n",
      "\n",
      "PackagesNotFoundError: The following packages are missing from the target environment:\n",
      "  - matplotlib\n",
      "\n",
      "\n"
     ]
    }
   ],
   "source": [
    "!conda uninstall matplotlib"
   ]
  },
  {
   "cell_type": "code",
   "execution_count": 13,
   "metadata": {
    "pycharm": {
     "is_executing": false
    }
   },
   "outputs": [
    {
     "name": "stdout",
     "text": [
      "None\n"
     ],
     "output_type": "stream"
    }
   ],
   "source": [
    "import numpy as np\n",
    "print(np.array([['lol',4],['bol',2], ['torl',3]]).sort())\n",
    "\n"
   ]
  },
  {
   "cell_type": "code",
   "execution_count": 13,
   "outputs": [],
   "source": [],
   "metadata": {
    "collapsed": false,
    "pycharm": {
     "name": "#%%\n",
     "is_executing": false
    }
   }
  },
  {
   "cell_type": "code",
   "execution_count": null,
   "outputs": [],
   "source": [
    "\n"
   ],
   "metadata": {
    "collapsed": false,
    "pycharm": {
     "name": "#%%\n"
    }
   }
  }
 ],
 "metadata": {
  "kernelspec": {
   "display_name": "py38",
   "language": "python",
   "name": "py38"
  },
  "language_info": {
   "codemirror_mode": {
    "name": "ipython",
    "version": 3
   },
   "file_extension": ".py",
   "mimetype": "text/x-python",
   "name": "python",
   "nbconvert_exporter": "python",
   "pygments_lexer": "ipython3",
   "version": "3.8.3"
  },
  "pycharm": {
   "stem_cell": {
    "cell_type": "raw",
    "source": [],
    "metadata": {
     "collapsed": false
    }
   }
  }
 },
 "nbformat": 4,
 "nbformat_minor": 4
}